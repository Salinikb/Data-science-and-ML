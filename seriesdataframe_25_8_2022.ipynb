{
  "nbformat": 4,
  "nbformat_minor": 0,
  "metadata": {
    "colab": {
      "name": "seriesdataframe 25-8-2022.ipynb",
      "provenance": [],
      "authorship_tag": "ABX9TyOiCNBuoCbtNg2oCPLjt69+",
      "include_colab_link": true
    },
    "kernelspec": {
      "name": "python3",
      "display_name": "Python 3"
    },
    "language_info": {
      "name": "python"
    }
  },
  "cells": [
    {
      "cell_type": "markdown",
      "metadata": {
        "id": "view-in-github",
        "colab_type": "text"
      },
      "source": [
        "<a href=\"https://colab.research.google.com/github/Salinikb/Data-science-and-ML/blob/main/seriesdataframe_25_8_2022.ipynb\" target=\"_parent\"><img src=\"https://colab.research.google.com/assets/colab-badge.svg\" alt=\"Open In Colab\"/></a>"
      ]
    },
    {
      "cell_type": "code",
      "execution_count": 2,
      "metadata": {
        "colab": {
          "base_uri": "https://localhost:8080/"
        },
        "id": "K7-OdNpADR0L",
        "outputId": "8fa6bc29-1c15-4335-cfcc-0a516d073f45"
      },
      "outputs": [
        {
          "output_type": "stream",
          "name": "stdout",
          "text": [
            "0    10\n",
            "1    15\n",
            "2    18\n",
            "3    22\n",
            "dtype: int64\n"
          ]
        }
      ],
      "source": [
        "import pandas as pd\n",
        "\n",
        "import numpy as np \n",
        "arr=np.array([10,15,18,22])\n",
        "s = pd.Series(arr)\n",
        "print(s)"
      ]
    },
    {
      "cell_type": "code",
      "source": [
        "import pandas as pd\n",
        "\n",
        "import numpy as np\n",
        "arr=np.array(['a','b','c','d'])\n",
        "s=pd.Series(arr,\n",
        "index=['first','second','third','fourth'])\n",
        "print(s)"
      ],
      "metadata": {
        "colab": {
          "base_uri": "https://localhost:8080/"
        },
        "id": "C4dPtxndEL57",
        "outputId": "a806a98a-93eb-4667-ba29-340fa2129a29"
      },
      "execution_count": 3,
      "outputs": [
        {
          "output_type": "stream",
          "name": "stdout",
          "text": [
            "first     a\n",
            "second    b\n",
            "third     c\n",
            "fourth    d\n",
            "dtype: object\n"
          ]
        }
      ]
    },
    {
      "cell_type": "code",
      "source": [
        "import pandas as pd\n",
        "s = pd.Series(50, index = [0,1,2,3,4])\n",
        "print(s)"
      ],
      "metadata": {
        "colab": {
          "base_uri": "https://localhost:8080/"
        },
        "id": "Yk49HxgvEnMs",
        "outputId": "9f8cf0a8-4260-459c-8331-35836f5203aa"
      },
      "execution_count": 4,
      "outputs": [
        {
          "output_type": "stream",
          "name": "stdout",
          "text": [
            "0    50\n",
            "1    50\n",
            "2    50\n",
            "3    50\n",
            "4    50\n",
            "dtype: int64\n"
          ]
        }
      ]
    },
    {
      "cell_type": "code",
      "source": [
        "import pandas as pd\n",
        "d={'name':'hardik','iplteam' : 'mi','runs' : 1500}\n",
        "s=pd.Series(d)\n",
        "print(s)"
      ],
      "metadata": {
        "colab": {
          "base_uri": "https://localhost:8080/"
        },
        "id": "eN3f_A24FlIm",
        "outputId": "6b8fcf3c-3e67-4dad-8391-e6cc3180b27b"
      },
      "execution_count": 6,
      "outputs": [
        {
          "output_type": "stream",
          "name": "stdout",
          "text": [
            "name       hardik\n",
            "iplteam        mi\n",
            "runs         1500\n",
            "dtype: object\n"
          ]
        }
      ]
    },
    {
      "cell_type": "code",
      "source": [
        "import pandas as pd\n",
        "s= pd.Series([1,2,3,4,5])\n",
        "print('to multiply all values in a series by 2')\n",
        "print('-------------')\n",
        "print(s*2)\n",
        "print(\"to find the square of all the values in a series\")\n",
        "print('---------')\n",
        "print(s**2)\n",
        "print('to print all the valyes in a series that are greater than 2')\n",
        "print('-------')\n",
        "print(s[s>2])\n"
      ],
      "metadata": {
        "colab": {
          "base_uri": "https://localhost:8080/"
        },
        "id": "hc0_MTrLG74_",
        "outputId": "5521cc25-9dd3-4c1c-9215-745bf28a093b"
      },
      "execution_count": 7,
      "outputs": [
        {
          "output_type": "stream",
          "name": "stdout",
          "text": [
            "to multiply all values in a series by 2\n",
            "-------------\n",
            "0     2\n",
            "1     4\n",
            "2     6\n",
            "3     8\n",
            "4    10\n",
            "dtype: int64\n",
            "to find the square of all the values in a series\n",
            "---------\n",
            "0     1\n",
            "1     4\n",
            "2     9\n",
            "3    16\n",
            "4    25\n",
            "dtype: int64\n",
            "to print all the valyes in a series that are greater than 2\n",
            "-------\n",
            "2    3\n",
            "3    4\n",
            "4    5\n",
            "dtype: int64\n"
          ]
        }
      ]
    },
    {
      "cell_type": "code",
      "source": [
        "import pandas as pd\n",
        "s1 = pd.Series([1,2,3,4,5],index=['a','b','c','d','e'])\n",
        "s2 = pd.Series([10,20,30,40,50],index=['a','b','c','d','e'])\n",
        "s3 = pd.Series([6,14,23,32],index = ['a','b','c','d'])\n",
        "print('to add series 1 & serie2')\n",
        "print('----')\n",
        "print(s1+s2)\n",
        "print('to add series2 & series3')\n",
        "print ('---') \n",
        "print(s2+s3)\n",
        "print('to add series2 and series3 and filled non matching index with 0')\n",
        "print('------')\n",
        "print(s2.add(s3,fill_value = 0))"
      ],
      "metadata": {
        "colab": {
          "base_uri": "https://localhost:8080/"
        },
        "id": "AeWpAzjOJJvg",
        "outputId": "de60c4b5-2209-4cd4-f00a-4c5d5c3198b7"
      },
      "execution_count": 31,
      "outputs": [
        {
          "output_type": "stream",
          "name": "stdout",
          "text": [
            "to add series 1 & serie2\n",
            "----\n",
            "a    11\n",
            "b    22\n",
            "c    33\n",
            "d    44\n",
            "e    55\n",
            "dtype: int64\n",
            "to add series2 & series3\n",
            "---\n",
            "a    16.0\n",
            "b    34.0\n",
            "c    53.0\n",
            "d    72.0\n",
            "e     NaN\n",
            "dtype: float64\n",
            "to add series2 and series3 and filled non matching index with 0\n",
            "------\n",
            "a    16.0\n",
            "b    34.0\n",
            "c    53.0\n",
            "d    72.0\n",
            "e    50.0\n",
            "dtype: float64\n"
          ]
        }
      ]
    },
    {
      "cell_type": "code",
      "source": [
        "import pandas as pd\n",
        "import numpy as np\n",
        "array = np.array ([10,15,18,22,55,77,42,48,97])\n",
        "s = pd.Series(array)\n",
        "print(s.head())\n",
        "print(s.head(3))"
      ],
      "metadata": {
        "colab": {
          "base_uri": "https://localhost:8080/"
        },
        "id": "xlRUHKOcQHEy",
        "outputId": "25ef62d1-b923-4a00-c3df-82afc5e2119d"
      },
      "execution_count": 33,
      "outputs": [
        {
          "output_type": "stream",
          "name": "stdout",
          "text": [
            "0    10\n",
            "1    15\n",
            "2    18\n",
            "3    22\n",
            "4    55\n",
            "dtype: int64\n",
            "0    10\n",
            "1    15\n",
            "2    18\n",
            "dtype: int64\n"
          ]
        }
      ]
    },
    {
      "cell_type": "code",
      "source": [
        "import pandas as pd\n",
        "import numpy as np\n",
        "array=np.array([10,15,34,56,78,])\n",
        "s=pd.Series(array)\n",
        "print(s.tail())\n",
        "print(s.tail(3))"
      ],
      "metadata": {
        "colab": {
          "base_uri": "https://localhost:8080/"
        },
        "id": "FMO_eLeyUh9R",
        "outputId": "ae4a891b-3619-4d63-bfab-27a0f1f58227"
      },
      "execution_count": 35,
      "outputs": [
        {
          "output_type": "stream",
          "name": "stdout",
          "text": [
            "0    10\n",
            "1    15\n",
            "2    34\n",
            "3    56\n",
            "4    78\n",
            "dtype: int64\n",
            "2    34\n",
            "3    56\n",
            "4    78\n",
            "dtype: int64\n"
          ]
        }
      ]
    },
    {
      "cell_type": "code",
      "source": [
        "import pandas as pd\n",
        "import numpy as np\n",
        "array=np.array([10,15,34,56,78,])\n",
        "s=pd.Series(array)\n",
        "print(s)\n",
        "print(s.loc[:5])"
      ],
      "metadata": {
        "colab": {
          "base_uri": "https://localhost:8080/"
        },
        "id": "4vZWqUeZVqig",
        "outputId": "13db4f72-3416-4652-ecbe-1c9b3b2d600f"
      },
      "execution_count": 36,
      "outputs": [
        {
          "output_type": "stream",
          "name": "stdout",
          "text": [
            "0    10\n",
            "1    15\n",
            "2    34\n",
            "3    56\n",
            "4    78\n",
            "dtype: int64\n",
            "0    10\n",
            "1    15\n",
            "2    34\n",
            "3    56\n",
            "4    78\n",
            "dtype: int64\n"
          ]
        }
      ]
    },
    {
      "cell_type": "code",
      "source": [
        "import pandas as pd\n",
        "import numpy as np\n",
        "array=np.array([10,15,34,56,78,])\n",
        "s=pd.Series(array)\n",
        "print(s)\n",
        "print(s.iloc[:2])\n",
        "print(s.iloc[3:4])\n",
        "s.iloc[2:3]"
      ],
      "metadata": {
        "colab": {
          "base_uri": "https://localhost:8080/"
        },
        "id": "bnmi294ZWl7-",
        "outputId": "515a056c-4059-4348-f49c-8261974953fc"
      },
      "execution_count": 37,
      "outputs": [
        {
          "output_type": "stream",
          "name": "stdout",
          "text": [
            "0    10\n",
            "1    15\n",
            "2    34\n",
            "3    56\n",
            "4    78\n",
            "dtype: int64\n",
            "0    10\n",
            "1    15\n",
            "dtype: int64\n",
            "3    56\n",
            "dtype: int64\n"
          ]
        },
        {
          "output_type": "execute_result",
          "data": {
            "text/plain": [
              "2    34\n",
              "dtype: int64"
            ]
          },
          "metadata": {},
          "execution_count": 37
        }
      ]
    },
    {
      "cell_type": "code",
      "source": [
        "import pandas as pd\n",
        "import numpy as np\n",
        "array=np.array([10,15,34,56,78,])\n",
        "s=pd.Series(array,index=['a','b','c','d','e'])\n",
        "print(s)\n",
        "print(s[1:5:2])\n",
        "print(s[0:6:2])"
      ],
      "metadata": {
        "colab": {
          "base_uri": "https://localhost:8080/"
        },
        "id": "7T0JcX6aZEFD",
        "outputId": "5f1e8561-1f7f-4109-9161-1189c2c466f9"
      },
      "execution_count": 38,
      "outputs": [
        {
          "output_type": "stream",
          "name": "stdout",
          "text": [
            "a    10\n",
            "b    15\n",
            "c    34\n",
            "d    56\n",
            "e    78\n",
            "dtype: int64\n",
            "b    15\n",
            "d    56\n",
            "dtype: int64\n",
            "a    10\n",
            "c    34\n",
            "e    78\n",
            "dtype: int64\n"
          ]
        }
      ]
    },
    {
      "cell_type": "code",
      "source": [
        "import pandas as pd\n",
        "s = pd.Series(['a','b','c','d'])\n",
        "df=pd.DataFrame(s)\n",
        "print(df)"
      ],
      "metadata": {
        "colab": {
          "base_uri": "https://localhost:8080/"
        },
        "id": "x0J34YbFaWxa",
        "outputId": "07dfdedd-1105-4cf6-dffd-5d7d4a36341a"
      },
      "execution_count": 40,
      "outputs": [
        {
          "output_type": "stream",
          "name": "stdout",
          "text": [
            "   0\n",
            "0  a\n",
            "1  b\n",
            "2  c\n",
            "3  d\n"
          ]
        }
      ]
    },
    {
      "cell_type": "code",
      "source": [
        "import pandas as pd\n",
        "name=pd.Series(['hardik','virat'])\n",
        "team=pd.Series"
      ],
      "metadata": {
        "id": "EGaJY6sPbDdU"
      },
      "execution_count": null,
      "outputs": []
    }
  ]
}